{
 "cells": [
  {
   "cell_type": "markdown",
   "id": "d1516160",
   "metadata": {},
   "source": [
    "# Preamble"
   ]
  },
  {
   "cell_type": "markdown",
   "id": "10adae3f",
   "metadata": {},
   "source": [
    "Using a simpler LSTM model based on one found in [Learning the Enigma with Recurrent Neural Networks by Sam Greydanus](https://doi.org/10.48550/arXiv.1708.07576), we manage an effective Seq2Seq translation between caesar cipher encrypted text and the unencrypted text."
   ]
  },
  {
   "cell_type": "markdown",
   "id": "dd030ff5",
   "metadata": {},
   "source": [
    "## Variables"
   ]
  },
  {
   "cell_type": "code",
   "execution_count": null,
   "id": "6eea425a",
   "metadata": {},
   "outputs": [],
   "source": [
    "PAD_TOKEN = 27\n",
    "SOS_TOKEN = 29\n",
    "EOS_TOKEN = 28"
   ]
  },
  {
   "cell_type": "code",
   "execution_count": null,
   "id": "78767f12",
   "metadata": {},
   "outputs": [],
   "source": [
    "DATA_AMOUNT = [50000, 150]\n",
    "FIXED_LENGTH = int(DATA_AMOUNT[1]*5)\n",
    "TRAIN_SPLIT = 0.8\n",
    "STREAM = False"
   ]
  },
  {
   "cell_type": "code",
   "execution_count": null,
   "id": "709f8503",
   "metadata": {},
   "outputs": [],
   "source": [
    "BATCH_SIZE = 64\n",
    "EMBEDDING_DIM = 256\n",
    "HIDDEN_DIM = 300\n",
    "DROPOUT = 0.5\n",
    "VOCAB_SIZE = 30\n",
    "NUM_EPOCHS = 5\n",
    "LR = 0.001\n",
    "CLIP = 1.0"
   ]
  },
  {
   "cell_type": "markdown",
   "id": "fa298ba9",
   "metadata": {},
   "source": [
    "## Imports"
   ]
  },
  {
   "cell_type": "code",
   "execution_count": null,
   "id": "28218d7c",
   "metadata": {},
   "outputs": [],
   "source": [
    "%load_ext autoreload\n",
    "%autoreload 2"
   ]
  },
  {
   "cell_type": "code",
   "execution_count": null,
   "id": "86b75d21",
   "metadata": {},
   "outputs": [],
   "source": [
    "from modules.data_handling import get_text\n",
    "from modules.data_handling import lstm_data\n",
    "from modules.encryption import caesar\n",
    "from modules.encryption import substitution\n",
    "from modules.encryption import enigma_encryptor as enigma\n",
    "\n",
    "\n",
    "\n",
    "from tqdm.autonotebook import tqdm\n",
    "import random\n",
    "import os"
   ]
  },
  {
   "cell_type": "code",
   "execution_count": null,
   "id": "40b19db8",
   "metadata": {},
   "outputs": [],
   "source": [
    "import torch\n",
    "from torch import nn\n",
    "import torch.nn.functional as F\n",
    "import torch.optim as optim"
   ]
  },
  {
   "cell_type": "code",
   "execution_count": null,
   "id": "ea2527ae",
   "metadata": {},
   "outputs": [],
   "source": [
    "device = \"cuda\" if torch.cuda.is_available() else \"cpu\"\n",
    "device"
   ]
  },
  {
   "cell_type": "markdown",
   "id": "11e8202e",
   "metadata": {},
   "source": [
    "## Creating Data"
   ]
  },
  {
   "cell_type": "code",
   "execution_count": null,
   "id": "c855d7f3",
   "metadata": {},
   "outputs": [],
   "source": [
    "# encryption = lambda x: caesar.rand_encrypt(x)\n",
    "# encryption = lambda x: substitution.rand_encrypt(x)\n",
    "encryption = lambda x: enigma.rand_encrypt(x)\n",
    "\n",
    "\n",
    "trainData, testData = lstm_data.initialise(encryption, *DATA_AMOUNT, TRAIN_SPLIT, stream=STREAM, fixed_length=FIXED_LENGTH )\n",
    "train_loader, test_loader = lstm_data.data2loader(trainData, testData, BATCH_SIZE=BATCH_SIZE)"
   ]
  },
  {
   "cell_type": "markdown",
   "id": "2fcc1c9a",
   "metadata": {},
   "source": [
    "# Model\n",
    "\n",
    "\n",
    "The model used borrows heavily from the [PyTorch Seq2Seq tutorial](https://github.com/bentrevett/pytorch-seq2seq/blob/main/1%20-%20Sequence%20to%20Sequence%20Learning%20with%20Neural%20Networks.ipynb). And a paper I found on exactly this topic to which I am very grateful called [Learning the Enigma with Recurrent Neural Networks by Sam Greydanus](https://doi.org/10.48550/arXiv.1708.07576)."
   ]
  },
  {
   "cell_type": "code",
   "execution_count": null,
   "id": "8c81bff0",
   "metadata": {},
   "outputs": [],
   "source": [
    "class Seq2Seq(nn.Module):\n",
    "    def __init__(self, input_dim=VOCAB_SIZE, embedding_dim=EMBEDDING_DIM, hidden_dim=HIDDEN_DIM, dropout=DROPOUT):\n",
    "        super().__init__()\n",
    "        self.embedding = nn.Embedding(input_dim, embedding_dim)\n",
    "        self.rnn = nn.LSTM(embedding_dim, hidden_dim, dropout=dropout)\n",
    "        self.dropout = nn.Dropout(dropout)\n",
    "        self.fc_out = nn.Linear(hidden_dim, input_dim)\n",
    "\n",
    "    def forward(self, x):\n",
    "        x = self.dropout(self.embedding(x))\n",
    "        x, (hidden, cell) = self.rnn(x)\n",
    "        return self.fc_out(x)"
   ]
  },
  {
   "cell_type": "code",
   "execution_count": null,
   "id": "c834c7d4",
   "metadata": {},
   "outputs": [],
   "source": [
    "model = Seq2Seq().to(device)\n",
    "if os.name != \"nt\":\n",
    "    model = torch.compile(model)\n",
    "    print(\"compiled\")\n",
    "model"
   ]
  },
  {
   "cell_type": "code",
   "execution_count": null,
   "id": "266f95d2",
   "metadata": {},
   "outputs": [],
   "source": [
    "def init_weights(m):\n",
    "    for name, param in m.named_parameters():\n",
    "        nn.init.uniform_(param.data, -0.08, 0.08)\n",
    "\n",
    "\n",
    "model.apply(init_weights)"
   ]
  },
  {
   "cell_type": "markdown",
   "id": "698814db",
   "metadata": {},
   "source": [
    "# Training"
   ]
  },
  {
   "cell_type": "code",
   "execution_count": null,
   "id": "d0f5825a",
   "metadata": {},
   "outputs": [],
   "source": [
    "def count_parameters(model):\n",
    "    return sum(p.numel() for p in model.parameters() if p.requires_grad)\n",
    "\n",
    "print(f\"The model has {count_parameters(model):,} trainable parameters\")"
   ]
  },
  {
   "cell_type": "code",
   "execution_count": null,
   "id": "e0a6df9e",
   "metadata": {},
   "outputs": [],
   "source": [
    "optimiser = optim.Adam(model.parameters(), lr=LR)\n",
    "loss_fn = nn.CrossEntropyLoss(ignore_index=PAD_TOKEN)"
   ]
  },
  {
   "cell_type": "code",
   "execution_count": null,
   "id": "38fb31d5",
   "metadata": {},
   "outputs": [],
   "source": [
    "def train_fn(model, clip, data_loader=train_loader, optimiser=optimiser, loss_fn=loss_fn,  device=device):\n",
    "    model.train()\n",
    "    epoch_loss = 0\n",
    "    for i, (X, y) in enumerate(data_loader):\n",
    "        X, y = X.to(device).permute(1, 0), y.to(device).permute(1, 0)\n",
    "        optimiser.zero_grad()\n",
    "        output = model(X)\n",
    "        output_dim = output.shape[-1]\n",
    "        output = output[1:].contiguous().view(-1, output_dim)\n",
    "        y = y[1:].contiguous().view(-1)\n",
    "        loss = loss_fn(output, y)\n",
    "        loss.backward()\n",
    "        torch.nn.utils.clip_grad_norm_(model.parameters(), clip)\n",
    "        optimiser.step()\n",
    "        epoch_loss += loss.item()\n",
    "    return epoch_loss / len(data_loader)"
   ]
  },
  {
   "cell_type": "code",
   "execution_count": null,
   "id": "033e20b6",
   "metadata": {},
   "outputs": [],
   "source": [
    "def evaluate_fn(model, data_loader=test_loader, loss_fn=loss_fn, device=device):\n",
    "    model.eval()\n",
    "    epoch_loss = 0\n",
    "    with torch.inference_mode():\n",
    "        for i, (X, y) in enumerate(data_loader):\n",
    "            X, y = X.to(device).permute(1, 0), y.to(device).permute(1, 0)\n",
    "            output = model(X)\n",
    "            output_dim = output.shape[-1]\n",
    "            output = output[1:].contiguous().view(-1, output_dim)\n",
    "            y = y[1:].contiguous().view(-1)\n",
    "            loss = loss_fn(output, y)\n",
    "            epoch_loss += loss.item()\n",
    "    return epoch_loss / len(data_loader)\n",
    "\n"
   ]
  },
  {
   "cell_type": "code",
   "execution_count": null,
   "id": "dd931bae",
   "metadata": {},
   "outputs": [],
   "source": [
    "for epoch in tqdm(range(NUM_EPOCHS)):\n",
    "    train_loss = train_fn(\n",
    "        model=model,\n",
    "        clip=CLIP,\n",
    "    )\n",
    "    valid_loss = evaluate_fn(\n",
    "        model,\n",
    "    )\n",
    "    print(f\"Train Loss: {train_loss:.3f} | Test Loss {valid_loss:.3f}\")"
   ]
  },
  {
   "cell_type": "markdown",
   "id": "4f494e3b",
   "metadata": {},
   "source": [
    "# Example useage"
   ]
  },
  {
   "cell_type": "code",
   "execution_count": null,
   "id": "74a78c04",
   "metadata": {},
   "outputs": [],
   "source": [
    "model.eval()\n",
    "test_string = \"The quick brown fox jumps over the lazy dog\"\n",
    "true_key = 14\n",
    "enc_text, _ = caesar.encrypt(test_string, key=true_key)\n",
    "print(f\"Original Text: '{test_string}'\")\n",
    "print(f\"Encrypted Text: '{enc_text}'\")\n",
    "\n",
    "input_tensor = torch.tensor([SOS_TOKEN] + get_text.string2_num_list(enc_text) + [EOS_TOKEN], dtype=torch.long).unsqueeze(1).to(device)\n",
    "\n",
    "with torch.inference_mode():\n",
    "    trg_tensor = torch.zeros(len(input_tensor), 1, dtype=torch.long).to(device)\n",
    "    output = model(input_tensor)\n",
    "predicted_indexes = output.argmax(2).squeeze(1)\n",
    "predicted_chars = []\n",
    "for idx in predicted_indexes:\n",
    "    if idx.item() == EOS_TOKEN:\n",
    "        break\n",
    "    if idx.item() == 0:\n",
    "        predicted_chars.append(\" \")\n",
    "    else:\n",
    "        predicted_chars.append(chr(idx.item() -1 + ord('a')))\n",
    "\n",
    "predicted_text = \"\".join(predicted_chars)\n",
    "print(f\"Model Prediction (Text): {predicted_text}\")"
   ]
  },
  {
   "cell_type": "markdown",
   "id": "844f08e6",
   "metadata": {},
   "source": [
    "# Save the Model"
   ]
  },
  {
   "cell_type": "code",
   "execution_count": null,
   "id": "29af280e",
   "metadata": {},
   "outputs": [],
   "source": [
    "torch.save(obj=model.state_dict(), f=\"models/01_LSTM.pt\")"
   ]
  },
  {
   "cell_type": "code",
   "execution_count": null,
   "id": "03a470b7",
   "metadata": {},
   "outputs": [],
   "source": []
  }
 ],
 "metadata": {
  "kernelspec": {
   "display_name": "code-breaking-nn",
   "language": "python",
   "name": "python3"
  },
  "language_info": {
   "codemirror_mode": {
    "name": "ipython",
    "version": 3
   },
   "file_extension": ".py",
   "mimetype": "text/x-python",
   "name": "python",
   "nbconvert_exporter": "python",
   "pygments_lexer": "ipython3",
   "version": "3.13.7"
  }
 },
 "nbformat": 4,
 "nbformat_minor": 5
}
