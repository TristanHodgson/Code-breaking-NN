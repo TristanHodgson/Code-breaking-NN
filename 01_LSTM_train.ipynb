{
 "cells": [
  {
   "cell_type": "markdown",
   "id": "d1516160",
   "metadata": {},
   "source": [
    "# Preamble"
   ]
  },
  {
   "cell_type": "markdown",
   "id": "10adae3f",
   "metadata": {},
   "source": [
    "Using a simpler LSTM model based on one found in [Learning the Enigma with Recurrent Neural Networks by Sam Greydanus](https://doi.org/10.48550/arXiv.1708.07576), we manage an effective Seq2Seq translation between caesar cipher encrypted text and the unencrypted text."
   ]
  },
  {
   "cell_type": "markdown",
   "id": "dd030ff5",
   "metadata": {},
   "source": [
    "## Variables"
   ]
  },
  {
   "cell_type": "code",
   "execution_count": 1,
   "id": "6eea425a",
   "metadata": {},
   "outputs": [],
   "source": [
    "PAD_TOKEN = 27\n",
    "SOS_TOKEN = 29\n",
    "EOS_TOKEN = 28"
   ]
  },
  {
   "cell_type": "code",
   "execution_count": 2,
   "id": "78767f12",
   "metadata": {},
   "outputs": [],
   "source": [
    "DATA_AMOUNT = [50000, 150]\n",
    "FIXED_LENGTH = int(DATA_AMOUNT[1]*5)\n",
    "TRAIN_SPLIT = 0.8\n",
    "STREAM = False"
   ]
  },
  {
   "cell_type": "code",
   "execution_count": 3,
   "id": "709f8503",
   "metadata": {},
   "outputs": [],
   "source": [
    "BATCH_SIZE = 64\n",
    "EMBEDDING_DIM = 256\n",
    "HIDDEN_DIM = 300\n",
    "DROPOUT = 0.5\n",
    "VOCAB_SIZE = 30\n",
    "NUM_EPOCHS = 5\n",
    "LR = 0.001\n",
    "CLIP = 1.0"
   ]
  },
  {
   "cell_type": "markdown",
   "id": "fa298ba9",
   "metadata": {},
   "source": [
    "## Imports"
   ]
  },
  {
   "cell_type": "code",
   "execution_count": 4,
   "id": "28218d7c",
   "metadata": {},
   "outputs": [],
   "source": [
    "%load_ext autoreload\n",
    "%autoreload 2"
   ]
  },
  {
   "cell_type": "code",
   "execution_count": 5,
   "id": "86b75d21",
   "metadata": {},
   "outputs": [],
   "source": [
    "from modules import lstm_data\n",
    "from modules import caesar\n",
    "from modules import get_text\n",
    "\n",
    "from tqdm.autonotebook import tqdm\n",
    "import random\n",
    "import os"
   ]
  },
  {
   "cell_type": "code",
   "execution_count": 6,
   "id": "40b19db8",
   "metadata": {},
   "outputs": [],
   "source": [
    "import torch\n",
    "from torch import nn\n",
    "import torch.nn.functional as F\n",
    "import torch.optim as optim"
   ]
  },
  {
   "cell_type": "code",
   "execution_count": 7,
   "id": "ea2527ae",
   "metadata": {},
   "outputs": [
    {
     "data": {
      "text/plain": [
       "'cuda'"
      ]
     },
     "execution_count": 7,
     "metadata": {},
     "output_type": "execute_result"
    }
   ],
   "source": [
    "device = \"cuda\" if torch.cuda.is_available() else \"cpu\"\n",
    "device"
   ]
  },
  {
   "cell_type": "markdown",
   "id": "11e8202e",
   "metadata": {},
   "source": [
    "## Creating Data"
   ]
  },
  {
   "cell_type": "code",
   "execution_count": 8,
   "id": "c855d7f3",
   "metadata": {},
   "outputs": [
    {
     "data": {
      "application/vnd.jupyter.widget-view+json": {
       "model_id": "d66cd35007ea49b884c61a517e0c8247",
       "version_major": 2,
       "version_minor": 0
      },
      "text/plain": [
       "Resolving data files:   0%|          | 0/52 [00:00<?, ?it/s]"
      ]
     },
     "metadata": {},
     "output_type": "display_data"
    },
    {
     "data": {
      "application/vnd.jupyter.widget-view+json": {
       "model_id": "77478104691941f7be24a3992e1c8b19",
       "version_major": 2,
       "version_minor": 0
      },
      "text/plain": [
       "Loading dataset shards:   0%|          | 0/38 [00:00<?, ?it/s]"
      ]
     },
     "metadata": {},
     "output_type": "display_data"
    },
    {
     "data": {
      "application/vnd.jupyter.widget-view+json": {
       "model_id": "126be3dde8fb4e27956fc68ae4af6641",
       "version_major": 2,
       "version_minor": 0
      },
      "text/plain": [
       "  0%|          | 0/50000 [00:00<?, ?it/s]"
      ]
     },
     "metadata": {},
     "output_type": "display_data"
    }
   ],
   "source": [
    "encryption = lambda x: caesar.encrypt(x)[0]\n",
    "\n",
    "trainData, testData = lstm_data.initialise(encryption, *DATA_AMOUNT, TRAIN_SPLIT, stream=STREAM, fixed_length=FIXED_LENGTH )\n",
    "train_loader, test_loader = lstm_data.data2loader(trainData, testData, BATCH_SIZE=BATCH_SIZE)"
   ]
  },
  {
   "cell_type": "markdown",
   "id": "2fcc1c9a",
   "metadata": {},
   "source": [
    "# Model\n",
    "\n",
    "\n",
    "The model used borrows heavily from the [PyTorch Seq2Seq tutorial](https://github.com/bentrevett/pytorch-seq2seq/blob/main/1%20-%20Sequence%20to%20Sequence%20Learning%20with%20Neural%20Networks.ipynb). And a paper I found on exactly this topic to which I am very grateful called [Learning the Enigma with Recurrent Neural Networks by Sam Greydanus](https://doi.org/10.48550/arXiv.1708.07576)."
   ]
  },
  {
   "cell_type": "code",
   "execution_count": 9,
   "id": "8c81bff0",
   "metadata": {},
   "outputs": [],
   "source": [
    "class Seq2Seq(nn.Module):\n",
    "    def __init__(self, input_dim=VOCAB_SIZE, embedding_dim=EMBEDDING_DIM, hidden_dim=HIDDEN_DIM, dropout=DROPOUT):\n",
    "        super().__init__()        \n",
    "        self.embedding = nn.Embedding(input_dim, embedding_dim)\n",
    "        self.rnn = nn.LSTM(embedding_dim, hidden_dim, dropout=dropout)\n",
    "        self.dropout = nn.Dropout(dropout)\n",
    "        self.fc_out = nn.Linear(hidden_dim, input_dim)\n",
    "\n",
    "    def forward(self, x):\n",
    "        x = self.dropout(self.embedding(x))\n",
    "        x, (hidden, cell) = self.rnn(x)\n",
    "        return self.fc_out(x)"
   ]
  },
  {
   "cell_type": "code",
   "execution_count": 10,
   "id": "c834c7d4",
   "metadata": {},
   "outputs": [
    {
     "name": "stderr",
     "output_type": "stream",
     "text": [
      "c:\\Users\\Tristan\\Home\\Code\\Projects\\Code-breaking-NN\\.venv\\Lib\\site-packages\\torch\\nn\\modules\\rnn.py:123: UserWarning: dropout option adds dropout after all but last recurrent layer, so non-zero dropout expects num_layers greater than 1, but got dropout=0.5 and num_layers=1\n",
      "  warnings.warn(\n"
     ]
    },
    {
     "data": {
      "text/plain": [
       "Seq2Seq(\n",
       "  (embedding): Embedding(30, 256)\n",
       "  (rnn): LSTM(256, 300, dropout=0.5)\n",
       "  (dropout): Dropout(p=0.5, inplace=False)\n",
       "  (fc_out): Linear(in_features=300, out_features=30, bias=True)\n",
       ")"
      ]
     },
     "execution_count": 10,
     "metadata": {},
     "output_type": "execute_result"
    }
   ],
   "source": [
    "model = Seq2Seq().to(device)\n",
    "if os.name != \"nt\":\n",
    "    model = torch.compile(model)\n",
    "    print(\"compiled\")\n",
    "model"
   ]
  },
  {
   "cell_type": "code",
   "execution_count": 11,
   "id": "266f95d2",
   "metadata": {},
   "outputs": [
    {
     "data": {
      "text/plain": [
       "Seq2Seq(\n",
       "  (embedding): Embedding(30, 256)\n",
       "  (rnn): LSTM(256, 300, dropout=0.5)\n",
       "  (dropout): Dropout(p=0.5, inplace=False)\n",
       "  (fc_out): Linear(in_features=300, out_features=30, bias=True)\n",
       ")"
      ]
     },
     "execution_count": 11,
     "metadata": {},
     "output_type": "execute_result"
    }
   ],
   "source": [
    "def init_weights(m):\n",
    "    for name, param in m.named_parameters():\n",
    "        nn.init.uniform_(param.data, -0.08, 0.08)\n",
    "\n",
    "\n",
    "model.apply(init_weights)"
   ]
  },
  {
   "cell_type": "markdown",
   "id": "698814db",
   "metadata": {},
   "source": [
    "# Training"
   ]
  },
  {
   "cell_type": "code",
   "execution_count": 12,
   "id": "d0f5825a",
   "metadata": {},
   "outputs": [
    {
     "name": "stdout",
     "output_type": "stream",
     "text": [
      "The model has 686,310 trainable parameters\n"
     ]
    }
   ],
   "source": [
    "def count_parameters(model):\n",
    "    return sum(p.numel() for p in model.parameters() if p.requires_grad)\n",
    "\n",
    "print(f\"The model has {count_parameters(model):,} trainable parameters\")"
   ]
  },
  {
   "cell_type": "code",
   "execution_count": 13,
   "id": "e0a6df9e",
   "metadata": {},
   "outputs": [],
   "source": [
    "optimiser = optim.Adam(model.parameters(), lr=LR)\n",
    "loss_fn = nn.CrossEntropyLoss(ignore_index=PAD_TOKEN)"
   ]
  },
  {
   "cell_type": "code",
   "execution_count": 14,
   "id": "38fb31d5",
   "metadata": {},
   "outputs": [],
   "source": [
    "def train_fn(model, clip, data_loader=train_loader, optimiser=optimiser, loss_fn=loss_fn,  device=device):\n",
    "    model.train()\n",
    "    epoch_loss = 0\n",
    "    for i, (X, y) in enumerate(data_loader):\n",
    "        X, y = X.to(device).permute(1, 0), y.to(device).permute(1, 0)\n",
    "        optimiser.zero_grad()\n",
    "        output = model(X)\n",
    "        output_dim = output.shape[-1]\n",
    "        output = output[1:].contiguous().view(-1, output_dim)\n",
    "        y = y[1:].contiguous().view(-1)\n",
    "        loss = loss_fn(output, y)\n",
    "        loss.backward()\n",
    "        torch.nn.utils.clip_grad_norm_(model.parameters(), clip)\n",
    "        optimiser.step()\n",
    "        epoch_loss += loss.item()\n",
    "    return epoch_loss / len(data_loader)"
   ]
  },
  {
   "cell_type": "code",
   "execution_count": 15,
   "id": "033e20b6",
   "metadata": {},
   "outputs": [],
   "source": [
    "def evaluate_fn(model, data_loader=test_loader, loss_fn=loss_fn, device=device):\n",
    "    model.eval()\n",
    "    epoch_loss = 0\n",
    "    with torch.inference_mode():\n",
    "        for i, (X, y) in enumerate(data_loader):\n",
    "            X, y = X.to(device).permute(1, 0), y.to(device).permute(1, 0)\n",
    "            output = model(X)\n",
    "            output_dim = output.shape[-1]\n",
    "            output = output[1:].contiguous().view(-1, output_dim)\n",
    "            y = y[1:].contiguous().view(-1)\n",
    "            loss = loss_fn(output, y)\n",
    "            epoch_loss += loss.item()\n",
    "    return epoch_loss / len(data_loader)\n",
    "\n"
   ]
  },
  {
   "cell_type": "code",
   "execution_count": 16,
   "id": "dd931bae",
   "metadata": {},
   "outputs": [
    {
     "data": {
      "application/vnd.jupyter.widget-view+json": {
       "model_id": "5f793c8f723b43e2a7ae2a59aa715985",
       "version_major": 2,
       "version_minor": 0
      },
      "text/plain": [
       "  0%|          | 0/5 [00:00<?, ?it/s]"
      ]
     },
     "metadata": {},
     "output_type": "display_data"
    },
    {
     "name": "stdout",
     "output_type": "stream",
     "text": [
      "Train Loss: 2.195 | Test Loss 1.279\n",
      "Train Loss: 0.534 | Test Loss 0.330\n",
      "Train Loss: 0.313 | Test Loss 0.284\n",
      "Train Loss: 0.235 | Test Loss 0.084\n",
      "Train Loss: 0.057 | Test Loss 0.036\n"
     ]
    }
   ],
   "source": [
    "for epoch in tqdm(range(NUM_EPOCHS)):\n",
    "    train_loss = train_fn(\n",
    "        model=model,\n",
    "        clip=CLIP,\n",
    "    )\n",
    "    valid_loss = evaluate_fn(\n",
    "        model,\n",
    "    )\n",
    "    print(f\"Train Loss: {train_loss:.3f} | Test Loss {valid_loss:.3f}\")"
   ]
  },
  {
   "cell_type": "markdown",
   "id": "4f494e3b",
   "metadata": {},
   "source": [
    "# Example useage"
   ]
  },
  {
   "cell_type": "code",
   "execution_count": 19,
   "id": "74a78c04",
   "metadata": {},
   "outputs": [
    {
     "name": "stdout",
     "output_type": "stream",
     "text": [
      "Original Text: 'The quick brown fox jumps over the lazy dog'\n",
      "Encrypted Text: 'hvs eiwqy pfckb tcl xiadg cjsf hvs zonm rcu'\n",
      "Model Prediction (Text):  the duice brown fox wumps over the lazy dog\n"
     ]
    }
   ],
   "source": [
    "model.eval()\n",
    "test_string = \"The quick brown fox jumps over the lazy dog\"\n",
    "true_key = 14\n",
    "enc_text, _ = caesar.encrypt(test_string, key=true_key)\n",
    "print(f\"Original Text: '{test_string}'\")\n",
    "print(f\"Encrypted Text: '{enc_text}'\")\n",
    "\n",
    "input_tensor = torch.tensor([SOS_TOKEN] + get_text.string2_num_list(enc_text) + [EOS_TOKEN], dtype=torch.long).unsqueeze(1).to(device)\n",
    "\n",
    "with torch.inference_mode():\n",
    "    trg_tensor = torch.zeros(len(input_tensor), 1, dtype=torch.long).to(device)\n",
    "    output = model(input_tensor)\n",
    "predicted_indexes = output.argmax(2).squeeze(1)\n",
    "predicted_chars = []\n",
    "for idx in predicted_indexes:\n",
    "    if idx.item() == EOS_TOKEN:\n",
    "        break\n",
    "    if idx.item() == 0:\n",
    "        predicted_chars.append(\" \")\n",
    "    else:\n",
    "        predicted_chars.append(chr(idx.item() -1 + ord('a')))\n",
    "\n",
    "predicted_text = \"\".join(predicted_chars)\n",
    "print(f\"Model Prediction (Text): {predicted_text}\")"
   ]
  },
  {
   "cell_type": "markdown",
   "id": "844f08e6",
   "metadata": {},
   "source": [
    "# Save the Model"
   ]
  },
  {
   "cell_type": "code",
   "execution_count": 20,
   "id": "29af280e",
   "metadata": {},
   "outputs": [],
   "source": [
    "torch.save(obj=model.state_dict(), f=\"models/01_LSTM.pt\")"
   ]
  },
  {
   "cell_type": "code",
   "execution_count": null,
   "id": "03a470b7",
   "metadata": {},
   "outputs": [],
   "source": []
  }
 ],
 "metadata": {
  "kernelspec": {
   "display_name": ".venv",
   "language": "python",
   "name": "python3"
  },
  "language_info": {
   "codemirror_mode": {
    "name": "ipython",
    "version": 3
   },
   "file_extension": ".py",
   "mimetype": "text/x-python",
   "name": "python",
   "nbconvert_exporter": "python",
   "pygments_lexer": "ipython3",
   "version": "3.12.10"
  }
 },
 "nbformat": 4,
 "nbformat_minor": 5
}
