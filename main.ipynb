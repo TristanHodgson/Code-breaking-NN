{
 "cells": [
  {
   "cell_type": "markdown",
   "id": "d1516160",
   "metadata": {},
   "source": [
    "# Preamble"
   ]
  },
  {
   "cell_type": "markdown",
   "id": "dd030ff5",
   "metadata": {},
   "source": [
    "## Variables"
   ]
  },
  {
   "cell_type": "code",
   "execution_count": 4,
   "id": "78767f12",
   "metadata": {},
   "outputs": [],
   "source": [
    "DATA_AMOUNT = [10000, 1000]\n",
    "TRAIN_SPLIT = 0.8"
   ]
  },
  {
   "cell_type": "markdown",
   "id": "fa298ba9",
   "metadata": {},
   "source": [
    "## Imports"
   ]
  },
  {
   "cell_type": "code",
   "execution_count": 5,
   "id": "28218d7c",
   "metadata": {},
   "outputs": [
    {
     "name": "stdout",
     "output_type": "stream",
     "text": [
      "The autoreload extension is already loaded. To reload it, use:\n",
      "  %reload_ext autoreload\n"
     ]
    }
   ],
   "source": [
    "%load_ext autoreload\n",
    "%autoreload 2"
   ]
  },
  {
   "cell_type": "code",
   "execution_count": 6,
   "id": "86b75d21",
   "metadata": {},
   "outputs": [],
   "source": [
    "from tqdm.autonotebook import tqdm\n",
    "import ceaser\n",
    "import get_text\n",
    "from random import randint, shuffle"
   ]
  },
  {
   "cell_type": "markdown",
   "id": "11e8202e",
   "metadata": {},
   "source": [
    "## Creating Data"
   ]
  },
  {
   "cell_type": "code",
   "execution_count": null,
   "id": "6b66ed8d",
   "metadata": {},
   "outputs": [],
   "source": [
    "textChucks = get_text.fetch_chunks(*DATA_AMOUNT)\n",
    "shuffle(textChucks)\n"
   ]
  },
  {
   "cell_type": "markdown",
   "id": "f62083ad",
   "metadata": {},
   "source": [
    "## Encrypting Data"
   ]
  },
  {
   "cell_type": "code",
   "execution_count": 9,
   "id": "db007796",
   "metadata": {},
   "outputs": [
    {
     "name": "stderr",
     "output_type": "stream",
     "text": [
      "100%|██████████| 10000/10000 [00:11<00:00, 907.71it/s]\n"
     ]
    }
   ],
   "source": [
    "data = []\n",
    "for chunk in tqdm(textChucks):\n",
    "    key = randint(1,26)\n",
    "    data.append([ceaser.encrypt(chunk, key), key])"
   ]
  },
  {
   "cell_type": "code",
   "execution_count": null,
   "id": "14025927",
   "metadata": {},
   "outputs": [],
   "source": [
    "n = int(len(textChucks)*TRAIN_SPLIT)\n",
    "trainDataDecrypt, testDataDecrypt = textChucks[:n], textChucks[n:]\n",
    "trainData, testData = data[:n], data[n:]"
   ]
  },
  {
   "cell_type": "code",
   "execution_count": null,
   "id": "9157c855",
   "metadata": {},
   "outputs": [],
   "source": [
    "ceaser.decrypt(*data[10])"
   ]
  },
  {
   "cell_type": "code",
   "execution_count": null,
   "id": "c855d7f3",
   "metadata": {},
   "outputs": [],
   "source": []
  }
 ],
 "metadata": {
  "kernelspec": {
   "display_name": ".venv",
   "language": "python",
   "name": "python3"
  },
  "language_info": {
   "codemirror_mode": {
    "name": "ipython",
    "version": 3
   },
   "file_extension": ".py",
   "mimetype": "text/x-python",
   "name": "python",
   "nbconvert_exporter": "python",
   "pygments_lexer": "ipython3",
   "version": "3.12.10"
  }
 },
 "nbformat": 4,
 "nbformat_minor": 5
}
