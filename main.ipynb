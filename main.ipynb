{
 "cells": [
  {
   "cell_type": "markdown",
   "id": "d1516160",
   "metadata": {},
   "source": [
    "# Preamble"
   ]
  },
  {
   "cell_type": "markdown",
   "id": "dd030ff5",
   "metadata": {},
   "source": [
    "## Variables"
   ]
  },
  {
   "cell_type": "code",
   "execution_count": 19,
   "id": "78767f12",
   "metadata": {},
   "outputs": [],
   "source": [
    "DATA_AMOUNT = [100000, 100]\n",
    "TRAIN_SPLIT = 0.8"
   ]
  },
  {
   "cell_type": "code",
   "execution_count": 20,
   "id": "709f8503",
   "metadata": {},
   "outputs": [],
   "source": [
    "BATCH_SIZE = 64\n",
    "EMBEDDING_DIM = 128\n",
    "NUM_FILTERS = 128\n",
    "FILTER_SIZES = [2, 3, 4, 5, 7]\n",
    "DROPOUT_PROB = 0.5\n",
    "NUM_CLASSES = 25\n",
    "VOCAB_SIZE = 28\n",
    "NUM_EPOCHS = 10\n",
    "LR = 0.01"
   ]
  },
  {
   "cell_type": "markdown",
   "id": "fa298ba9",
   "metadata": {},
   "source": [
    "## Imports"
   ]
  },
  {
   "cell_type": "code",
   "execution_count": 21,
   "id": "28218d7c",
   "metadata": {},
   "outputs": [
    {
     "name": "stdout",
     "output_type": "stream",
     "text": [
      "The autoreload extension is already loaded. To reload it, use:\n",
      "  %reload_ext autoreload\n"
     ]
    }
   ],
   "source": [
    "%load_ext autoreload\n",
    "%autoreload 2"
   ]
  },
  {
   "cell_type": "code",
   "execution_count": 22,
   "id": "86b75d21",
   "metadata": {},
   "outputs": [],
   "source": [
    "import get_text\n",
    "import ceaser\n",
    "from tqdm.autonotebook import tqdm"
   ]
  },
  {
   "cell_type": "code",
   "execution_count": 23,
   "id": "40b19db8",
   "metadata": {},
   "outputs": [],
   "source": [
    "import torch\n",
    "from torch import nn\n",
    "from torch.nn.utils.rnn import pad_sequence\n",
    "from torch.utils.data import Dataset, DataLoader\n",
    "import torch.nn.functional as F\n",
    "import torch.optim as optim"
   ]
  },
  {
   "cell_type": "code",
   "execution_count": 24,
   "id": "ea2527ae",
   "metadata": {},
   "outputs": [
    {
     "data": {
      "text/plain": [
       "'cuda'"
      ]
     },
     "execution_count": 24,
     "metadata": {},
     "output_type": "execute_result"
    }
   ],
   "source": [
    "device = \"cuda\" if torch.cuda.is_available() else \"cpu\"\n",
    "device"
   ]
  },
  {
   "cell_type": "markdown",
   "id": "11e8202e",
   "metadata": {},
   "source": [
    "## Creating Data"
   ]
  },
  {
   "cell_type": "code",
   "execution_count": 25,
   "id": "c855d7f3",
   "metadata": {},
   "outputs": [
    {
     "data": {
      "application/vnd.jupyter.widget-view+json": {
       "model_id": "f0c520e6511b4d6d8730effa27a113f1",
       "version_major": 2,
       "version_minor": 0
      },
      "text/plain": [
       "Resolving data files:   0%|          | 0/52 [00:00<?, ?it/s]"
      ]
     },
     "metadata": {},
     "output_type": "display_data"
    },
    {
     "data": {
      "application/vnd.jupyter.widget-view+json": {
       "model_id": "a57aaf2379b14a6cbf8217c7240daab5",
       "version_major": 2,
       "version_minor": 0
      },
      "text/plain": [
       "Loading dataset shards:   0%|          | 0/38 [00:00<?, ?it/s]"
      ]
     },
     "metadata": {},
     "output_type": "display_data"
    },
    {
     "data": {
      "application/vnd.jupyter.widget-view+json": {
       "model_id": "80d078fa60c741e880cb50fbf367f98e",
       "version_major": 2,
       "version_minor": 0
      },
      "text/plain": [
       "  0%|          | 0/100000 [00:00<?, ?it/s]"
      ]
     },
     "metadata": {},
     "output_type": "display_data"
    }
   ],
   "source": [
    "trainData, testData = get_text.initialise(ceaser.encrypt, *DATA_AMOUNT, TRAIN_SPLIT, stream=False)"
   ]
  },
  {
   "cell_type": "code",
   "execution_count": 26,
   "id": "07f1b0fa",
   "metadata": {},
   "outputs": [],
   "source": [
    "train = [datum[0] for datum in trainData]\n",
    "trainLabel = [datum[1] for datum in trainData]\n",
    "test = [datum[0] for datum in testData]\n",
    "testLabel = [datum[1] for datum in testData]"
   ]
  },
  {
   "cell_type": "markdown",
   "id": "2fe69b8e",
   "metadata": {},
   "source": [
    "### DataLoaders"
   ]
  },
  {
   "cell_type": "code",
   "execution_count": 27,
   "id": "979995c8",
   "metadata": {},
   "outputs": [],
   "source": [
    "class CipherDataset(Dataset):\n",
    "    def __init__(self, chunks, labels):\n",
    "        self.chunks = chunks\n",
    "        self.labels = labels\n",
    "\n",
    "    def __len__(self):\n",
    "        return len(self.chunks)\n",
    "\n",
    "    def __getitem__(self, idx):\n",
    "        sequence = torch.tensor(self.chunks[idx], dtype=torch.long)\n",
    "        label = torch.tensor(self.labels[idx] - 1, dtype=torch.long)\n",
    "        return sequence, label"
   ]
  },
  {
   "cell_type": "code",
   "execution_count": 28,
   "id": "d4eb95a2",
   "metadata": {},
   "outputs": [],
   "source": [
    "def pad_fn(batch):\n",
    "    chunks, labels = zip(*batch)\n",
    "    chunks = pad_sequence(chunks, batch_first=True, padding_value=27)\n",
    "    labels = torch.stack(labels)\n",
    "    return chunks, labels"
   ]
  },
  {
   "cell_type": "code",
   "execution_count": 29,
   "id": "350a40ea",
   "metadata": {},
   "outputs": [],
   "source": [
    "train_dataset = CipherDataset(train, trainLabel)\n",
    "test_dataset = CipherDataset(test, testLabel)\n",
    "train_loader = DataLoader(train_dataset, batch_size=BATCH_SIZE, shuffle=False, collate_fn=pad_fn)\n",
    "test_loader = DataLoader(test_dataset, batch_size=BATCH_SIZE, shuffle=False, collate_fn=pad_fn)"
   ]
  },
  {
   "cell_type": "markdown",
   "id": "10930dd9",
   "metadata": {},
   "source": [
    "# CNN Model"
   ]
  },
  {
   "cell_type": "code",
   "execution_count": 30,
   "id": "72015503",
   "metadata": {},
   "outputs": [],
   "source": [
    "class CNNClassifier(nn.Module):\n",
    "    def __init__(self,\n",
    "                 num_filters=NUM_FILTERS,\n",
    "                 filter_sizes=FILTER_SIZES,\n",
    "                 num_classes=NUM_CLASSES,\n",
    "                 dropout_prob=DROPOUT_PROB,\n",
    "                 embed_dim=EMBEDDING_DIM,\n",
    "                 vocab_size=VOCAB_SIZE):\n",
    "        super().__init__()\n",
    "        self.embedding = nn.Embedding(vocab_size, embed_dim, padding_idx=27)\n",
    "        self.convs = nn.ModuleList([\n",
    "            nn.Conv1d(in_channels=embed_dim, out_channels=num_filters, kernel_size=k)\n",
    "            for k in filter_sizes\n",
    "        ])\n",
    "        self.linear = nn.Linear(len(filter_sizes) * num_filters, num_classes)\n",
    "        self.dropout = nn.Dropout(dropout_prob)\n",
    "\n",
    "    def forward(self, x):\n",
    "        embedded = self.embedding(x).permute(0, 2, 1)\n",
    "        conved = [F.relu(conv(embedded)) for conv in self.convs]\n",
    "        pooled = [F.max_pool1d(conv, conv.shape[2]).squeeze(2) for conv in conved]\n",
    "        cat = torch.cat(pooled, dim=1)\n",
    "        dropped = self.dropout(cat)\n",
    "        return self.linear(dropped)"
   ]
  },
  {
   "cell_type": "code",
   "execution_count": 31,
   "id": "673813a4",
   "metadata": {},
   "outputs": [
    {
     "data": {
      "text/plain": [
       "CNNClassifier(\n",
       "  (embedding): Embedding(28, 128, padding_idx=27)\n",
       "  (convs): ModuleList(\n",
       "    (0): Conv1d(128, 128, kernel_size=(2,), stride=(1,))\n",
       "    (1): Conv1d(128, 128, kernel_size=(3,), stride=(1,))\n",
       "    (2): Conv1d(128, 128, kernel_size=(4,), stride=(1,))\n",
       "    (3): Conv1d(128, 128, kernel_size=(5,), stride=(1,))\n",
       "    (4): Conv1d(128, 128, kernel_size=(7,), stride=(1,))\n",
       "  )\n",
       "  (linear): Linear(in_features=640, out_features=25, bias=True)\n",
       "  (dropout): Dropout(p=0.5, inplace=False)\n",
       ")"
      ]
     },
     "execution_count": 31,
     "metadata": {},
     "output_type": "execute_result"
    }
   ],
   "source": [
    "model = CNNClassifier().to(device)\n",
    "# model = torch.compile(model)\n",
    "model"
   ]
  },
  {
   "cell_type": "markdown",
   "id": "edf3deea",
   "metadata": {},
   "source": [
    "# Training"
   ]
  },
  {
   "cell_type": "code",
   "execution_count": 32,
   "id": "02849d3e",
   "metadata": {},
   "outputs": [],
   "source": [
    "loss_fn = nn.CrossEntropyLoss()\n",
    "optimiser = optim.Adam(model.parameters(), lr=LR)"
   ]
  },
  {
   "cell_type": "code",
   "execution_count": 33,
   "id": "368bfe15",
   "metadata": {},
   "outputs": [
    {
     "data": {
      "application/vnd.jupyter.widget-view+json": {
       "model_id": "6c526e1f9c104d8c8ceb6cd9f1c27b5c",
       "version_major": 2,
       "version_minor": 0
      },
      "text/plain": [
       "  0%|          | 0/10 [00:00<?, ?it/s]"
      ]
     },
     "metadata": {},
     "output_type": "display_data"
    },
    {
     "name": "stdout",
     "output_type": "stream",
     "text": [
      "Validation Loss: 0.0010 | Accuracy: 100.00%\n",
      "Validation Loss: 0.0002 | Accuracy: 100.00%\n",
      "Validation Loss: 0.0022 | Accuracy: 99.99%\n",
      "Validation Loss: 0.0000 | Accuracy: 100.00%\n",
      "Validation Loss: 0.0112 | Accuracy: 99.99%\n",
      "Validation Loss: 0.0080 | Accuracy: 100.00%\n",
      "Validation Loss: 0.0071 | Accuracy: 100.00%\n",
      "Validation Loss: 0.0134 | Accuracy: 99.98%\n",
      "Validation Loss: 0.0220 | Accuracy: 99.99%\n",
      "Validation Loss: 0.0289 | Accuracy: 99.99%\n"
     ]
    }
   ],
   "source": [
    "for epoch in tqdm(range(NUM_EPOCHS)):\n",
    "    model.train()\n",
    "    running_loss = 0\n",
    "\n",
    "    for inputs, labels in train_loader:\n",
    "        inputs = inputs.to(device)\n",
    "        labels = labels.to(device)\n",
    "        optimiser.zero_grad()\n",
    "        outputs = model(inputs)\n",
    "        loss = loss_fn(outputs, labels)\n",
    "        loss.backward()\n",
    "        optimiser.step()\n",
    "        running_loss += loss.item()\n",
    "\n",
    "    avg_train_loss = running_loss / len(train_loader)\n",
    "\n",
    "    model.eval()\n",
    "    test_loss = 0\n",
    "    correct = 0\n",
    "    total = 0\n",
    "\n",
    "    with torch.inference_mode():\n",
    "        for inputs, labels in test_loader:\n",
    "            inputs = inputs.to(device)\n",
    "            labels = labels.to(device)\n",
    "\n",
    "            outputs = model(inputs)\n",
    "            loss = loss_fn(outputs, labels)\n",
    "            test_loss += loss.item()\n",
    "\n",
    "            predicted = torch.argmax(outputs, dim=1)\n",
    "            total += labels.size(0)\n",
    "            correct += (predicted == labels).sum().item()\n",
    "\n",
    "    avg_test_loss = test_loss / len(test_loader)\n",
    "    accuracy = 100 * correct / total\n",
    "    print(f\"Train Loss: {avg_test_loss:.4f} | Test Loss: {avg_test_loss:.4f} | Test Accuracy: {accuracy:.1f}%\")"
   ]
  },
  {
   "cell_type": "markdown",
   "id": "2de40665",
   "metadata": {},
   "source": [
    "# A simple test Case"
   ]
  },
  {
   "cell_type": "code",
   "execution_count": 37,
   "id": "63e393bd",
   "metadata": {},
   "outputs": [
    {
     "name": "stdout",
     "output_type": "stream",
     "text": [
      "Original Text: 'The quick brown fox jumps over the lazy dog'\n",
      "Encrypted Text: 'hvs eiwqy pfckb tcl xiadg cjsf hvs zonm rcu'\n",
      "Model Prediction (Key): tensor([14], device='cuda:0')\n"
     ]
    }
   ],
   "source": [
    "model.eval()\n",
    "test_string = \"The quick brown fox jumps over the lazy dog\"\n",
    "true_key = 14\n",
    "enc_text, _ = ceaser.encrypt(test_string, key=true_key)\n",
    "print(f\"Original Text: '{test_string}'\")\n",
    "print(f\"Encrypted Text: '{enc_text}'\")\n",
    "input_tensor = torch.tensor(get_text.string2_num_list(enc_text), dtype=torch.long).unsqueeze(0).to(device)\n",
    "with torch.inference_mode():\n",
    "    pred_logits = model(input_tensor)\n",
    "pred_key = torch.argmax(pred_logits, dim=1) + 1\n",
    "print(f\"Model Prediction (Key): {pred_key}\")"
   ]
  },
  {
   "cell_type": "code",
   "execution_count": null,
   "id": "c2efa5fb",
   "metadata": {},
   "outputs": [],
   "source": []
  }
 ],
 "metadata": {
  "kernelspec": {
   "display_name": "code-breaking-nn",
   "language": "python",
   "name": "python3"
  },
  "language_info": {
   "codemirror_mode": {
    "name": "ipython",
    "version": 3
   },
   "file_extension": ".py",
   "mimetype": "text/x-python",
   "name": "python",
   "nbconvert_exporter": "python",
   "pygments_lexer": "ipython3",
   "version": "3.13.7"
  }
 },
 "nbformat": 4,
 "nbformat_minor": 5
}
