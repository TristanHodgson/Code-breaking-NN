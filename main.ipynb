{
 "cells": [
  {
   "cell_type": "markdown",
   "id": "d1516160",
   "metadata": {},
   "source": [
    "# Preamble"
   ]
  },
  {
   "cell_type": "markdown",
   "id": "dd030ff5",
   "metadata": {},
   "source": [
    "## Variables"
   ]
  },
  {
   "cell_type": "code",
   "execution_count": 1,
   "id": "78767f12",
   "metadata": {},
   "outputs": [],
   "source": [
    "DATA_AMOUNT = [10, 100]\n",
    "TRAIN_SPLIT = 0.8"
   ]
  },
  {
   "cell_type": "markdown",
   "id": "fa298ba9",
   "metadata": {},
   "source": [
    "## Imports"
   ]
  },
  {
   "cell_type": "code",
   "execution_count": 2,
   "id": "28218d7c",
   "metadata": {},
   "outputs": [],
   "source": [
    "%load_ext autoreload\n",
    "%autoreload 2"
   ]
  },
  {
   "cell_type": "code",
   "execution_count": 3,
   "id": "86b75d21",
   "metadata": {},
   "outputs": [],
   "source": [
    "import get_text\n",
    "import ceaser"
   ]
  },
  {
   "cell_type": "markdown",
   "id": "11e8202e",
   "metadata": {},
   "source": [
    "## Creating Data"
   ]
  },
  {
   "cell_type": "code",
   "execution_count": 4,
   "id": "c855d7f3",
   "metadata": {},
   "outputs": [
    {
     "data": {
      "application/vnd.jupyter.widget-view+json": {
       "model_id": "b0ec8d5f15044a3baab795d16c66f000",
       "version_major": 2,
       "version_minor": 0
      },
      "text/plain": [
       "Resolving data files:   0%|          | 0/52 [00:00<?, ?it/s]"
      ]
     },
     "metadata": {},
     "output_type": "display_data"
    },
    {
     "data": {
      "application/vnd.jupyter.widget-view+json": {
       "model_id": "769e0adad541438b93c0884ff2bce85c",
       "version_major": 2,
       "version_minor": 0
      },
      "text/plain": [
       "Loading dataset shards:   0%|          | 0/38 [00:00<?, ?it/s]"
      ]
     },
     "metadata": {},
     "output_type": "display_data"
    },
    {
     "data": {
      "application/vnd.jupyter.widget-view+json": {
       "model_id": "e2a86aebeff14388ad620ac1dd6695d0",
       "version_major": 2,
       "version_minor": 0
      },
      "text/plain": [
       "  0%|          | 0/10 [00:00<?, ?it/s]"
      ]
     },
     "metadata": {},
     "output_type": "display_data"
    }
   ],
   "source": [
    "trainData, testData = get_text.initialise(ceaser.encrypt, *DATA_AMOUNT, TRAIN_SPLIT)"
   ]
  },
  {
   "cell_type": "code",
   "execution_count": 5,
   "id": "47084107",
   "metadata": {},
   "outputs": [
    {
     "data": {
      "text/plain": [
       "[['vjg rtqlgev iwvgpdgti gdqqm cffkuqp da yknnkco lqjp eqwtvjqrg vjku gdqqm ku hqt vjg wug qh cpaqpg cpayjgtg cv pq equv cpf ykvj cnoquv pq tguvtkevkqpu yjcvuqgxgt aqw oca eqra kv ikxg kv cyca qt tg wug kv wpfgt vjg vgtou qh vjg rtqlgev iwvgpdgti nkegpug kpenwfgf ykvj vjku gdqqm qt qpnkpg cv yyy iwvgpdgti qti vkvng cffkuqp cwvjqt yknnkco lqjp eqwtvjqrg tgngcug fcvg pqxgodgt gdqqm ncpiwcig gpinkuj ejctcevgt ugv gpeqfkpi kuq uvctv qh vjg rtqlgev iwvgpdgti gdqqm cffkuqp g vgzv rtgrctgf da vjg qpnkpg fkuvtkdwvgf rtqqhtgcfkpi vgco jvvr yyy rifr pgv htqo rcig kocigu igpgtqwuna ocfg cxckncdng da kpvgtpgv',\n",
       "  2],\n",
       " ['ifudiuh h m sxkhsx jxqsauhqo qdjxedo jhebbefu rkhau zexd cehbuo cybjed cqha fqjjyied xqmjxehdu xudho zqcui zh iekjxuo u temtud sxqksuh q m mqht rkdoqd z q vhektu semfuh webtmyd icyjx fefu buibyu ijufxud rohed zexd dysxeb besau jxecqi vembuh mehtimehjx v couhi thotud w iqydjirkho bqdteh iytduo seblyd tu gkydsuo tqlyt cqiied bqcr qbvhut qydwuh rudjbuo h s zurr tysaudi q m mqht whqo u m weiiu imyvj buibyu ijufxud ijuhdu x t jhqybb cqsqkbqo z sejjuh cehyied vyubtydw qkijyd teried ixuhytqd chi ebyfxqdj qttyied m z sekhjxefu rqsed h m sxkhsx sebuhytwu x t jhqybb iyh fxybyf iytduo',\n",
       "  16],\n",
       " ['cobfo dy rosqrdox dro pkfyebklvo yzsxsyx yp rswcovp drsc klcoxmo yp nbkwkdsm sxmsnoxd sx knnscyx c vspo gyevn vokn ec xkdebkvvi dy myxmveno drkd ro gkc nopsmsoxd sx dro oxobqi kxn zkccsyx grsmr mkeco k zygobpev xkdebo dy vokfo k wkbu ezyx sdc kqo iod cemr k tenqwoxd gyevn mobdksxvi lo obbyxoyec cri kxn bocobfon kc ro gkc dro exkxswyec fobnsmd yp rsc wycd svvecdbsyec myxdowzybkbsoc sc nomscsfo kc dy dro boczomd kxn knwsbkdsyx grsmr ro ohmsdon kwyxq drow dro wkx gry myevn ohobd cy zydoxd kx sxpveoxmo yfob dro wobmebskv cdoovo gry myevn pkcmsxkdo dro rkeqrdi kxn mixsmkv sxdovvomd',\n",
       "  10],\n",
       " ['gfw ywfwjslagf sxlwj sfglzwj ewf jwhjwkwflafy ghhgkafy wdwewflk gx jsfc udskk aflwjwkl sfv lsklw zsnw syjwwv af sucfgodwvyafy svvakgf k wpljsgjvafsjq ewjalk ozgwnwj oakzwk ksqk bgzfkgf sl lzw wfv gx s tagyjshzq kljgfydq ugdgmjwv oalz lzw hjwhgkkwkkagfk gx s kwea bsugtalw lgjq ozgwnwj oakzwk lg sllsaf sf wfydakz klqdw xseadasj tml fgl ugsjkw sfv wdwysfl tml fgl gklwflslagmk emkl yanw zak vsqk sfv fayzlk lg lzw ngdmewk gx svvakgf kmuz s esjc gx fslagfsd jwkhwul ksqk esusmdsq lzw twkl jwhjwkwflslanw gx eavvdw udskk ghafagf af lzw hjwkwfl uwflmjq khwscafy gx lzw klslmw wjwulwv lg svvakgf af owkleafklwj sttwq osk vmw',\n",
       "  18],\n",
       " ['q h zftvukz rlhaz zpkulf jvscpu jhysfsl qvou upjovs tv jsvao jluaz wly cvsbtl vaoly cvsbtlz pu wylwhyhapvu wbispzolk if ohywly iyvaolyz uld fvyr huf vm aol hivcl dvyrz dpss il zlua if thps wvzahnl wylwhpk av huf whya vm aol bupalk zahalz jhuhkh vy tlepjv vu yljlpwa vm aol wypjl jvualuaz whnl johwaly p aol zahal vm lunspzo zvjplaf huk slaalyz hmaly aol ylzavyhapvu johwaly pp hkkpzvu z mhtpsf huk lkbjhapvu johwaly ppp hkkpzvu vu opz ayhclsz johwaly pc opz ltwsvftlua pu hmmhpyz vm zahal johwaly c aol ahasly huk zwljahavy johwaly cp jhav johwaly cpp hkkpzvu z xbhyyls',\n",
       "  7],\n",
       " ['kwhv dcds qvodhsf jwww hvs zogh msofg ct vwg zwts qvodhsf wl hvs usbwig ct orrwgcb orrwgcb qvodhsf w hvs ghohs ct sbuzwgv gcqwshm obr zshhsfg othsf hvs fsghcfohwcb ct hvs tcif sbuzwgv asb ct zshhsfg kvcgs kfwhwbug acgh tizzm sapcrm hvs gdwfwh ct hvs swuvhssbhv qsbhifm hvs cbs kvc dfcjwrsg hvs pwcufodvsf kwhv hvs gqobhwsgh aohsfwozg wg orrwgcb wb vwg xcifboz hc ghszzo vwg gcqwoz jsfgsg obr vwg zshhsfg hc vwg tfwsbrg ks vojs o jwjwr dwqhifs ct hvcgs fszohwcbg kwhv kcasb obr hvoh dfchfoqhsr gittsfwbu kvwqv wbjsgh kwhv giqv hfouwq wbhsfsgh hvs vwghcfm ct gkwth dcds pm hvs',\n",
       "  14],\n",
       " ['hyjopcl oaaw hyjopcl vyn uval pthnlz vm aol vypnpuhs whnlz hyl hchpshisl aoyvbno pualyula hyjopcl zll oaaw hyjopcl vyn klahpsz hkkpzvu jvby ayhuzjypily z uval alea lujsvzlk if buklyzjvylz pz pu pahspjz pahspjz alea lujsvzlk if jbysf iyhjrlaz pz zbwlyzjypwalk lehtwsl f l lunspzo tlu vm slaalyz lkpalk if qvou tvyslf hkkpzvu if d q jvbyaovwl ohywly iyvaolyz wbispzolyz uld fvyr huk svukvu lunspzo tlu vm slaalyz lkpalk if qvou tvyslf qvouzvu slzspl zalwolu npiivu q j tvypzvu zjvaa y o obaavu zolsslf q h zftvukz obtl a o obeslf nvskztpao dpsspht ishjr klmvl dpsspht tpuav ibyuz q j zohpyw',\n",
       "  7],\n",
       " ['ri vzliw zkrvh frqyhuvdwlrq eb wkh dgplvvlrq ri klv vdwlulvw srsh kdg lq lw vrphwklqj pruh fkduplqj wkdq wkdw ri dqb rwkhu pdq ri zkrp lw zdv vdlg wkdw kh pljkw kdyh ehhq fkrvhq nlqj li kh zlvkhg lw vxfk d pdq wkrxjk wr wkh frduvh shufhswlrq ri pdqghylooh kh pljkw kdyh vhhphg qr pruh wkdq d sduvrq lq d wbh zlj fdq kdugob kdyh ehhq ghilflhqw lq irufh ri fkdudfwhu qru zrxog lw kdyh ehhq srvvleoh iru d zulwhu glvwlqjxlvkhg eb phuh hohjdqfh dqg uhilqhphqw wr ohdyh d odvwlqj lpsuhvv rq wkh olwhudwxuh dqg vrflhwb ri klv frxqwub lq',\n",
       "  3]]"
      ]
     },
     "execution_count": 5,
     "metadata": {},
     "output_type": "execute_result"
    }
   ],
   "source": [
    "trainData"
   ]
  }
 ],
 "metadata": {
  "kernelspec": {
   "display_name": ".venv",
   "language": "python",
   "name": "python3"
  },
  "language_info": {
   "codemirror_mode": {
    "name": "ipython",
    "version": 3
   },
   "file_extension": ".py",
   "mimetype": "text/x-python",
   "name": "python",
   "nbconvert_exporter": "python",
   "pygments_lexer": "ipython3",
   "version": "3.12.10"
  }
 },
 "nbformat": 4,
 "nbformat_minor": 5
}
