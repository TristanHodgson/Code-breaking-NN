{
 "cells": [
  {
   "cell_type": "markdown",
   "id": "d1516160",
   "metadata": {},
   "source": [
    "# Preamble"
   ]
  },
  {
   "cell_type": "markdown",
   "id": "dd030ff5",
   "metadata": {},
   "source": [
    "## Variables"
   ]
  },
  {
   "cell_type": "code",
   "execution_count": 11,
   "id": "78767f12",
   "metadata": {},
   "outputs": [],
   "source": [
    "DATA_AMOUNT = [10, 100]\n",
    "TRAIN_SPLIT = 0.8"
   ]
  },
  {
   "cell_type": "markdown",
   "id": "fa298ba9",
   "metadata": {},
   "source": [
    "## Imports"
   ]
  },
  {
   "cell_type": "code",
   "execution_count": 12,
   "id": "28218d7c",
   "metadata": {},
   "outputs": [
    {
     "name": "stdout",
     "output_type": "stream",
     "text": [
      "The autoreload extension is already loaded. To reload it, use:\n",
      "  %reload_ext autoreload\n"
     ]
    }
   ],
   "source": [
    "%load_ext autoreload\n",
    "%autoreload 2"
   ]
  },
  {
   "cell_type": "code",
   "execution_count": 13,
   "id": "86b75d21",
   "metadata": {},
   "outputs": [],
   "source": [
    "import get_text\n",
    "import ceaser"
   ]
  },
  {
   "cell_type": "markdown",
   "id": "11e8202e",
   "metadata": {},
   "source": [
    "## Creating Data"
   ]
  },
  {
   "cell_type": "code",
   "execution_count": 14,
   "id": "c855d7f3",
   "metadata": {},
   "outputs": [
    {
     "data": {
      "application/vnd.jupyter.widget-view+json": {
       "model_id": "926e7a4cee2c4fb0b4d8500af9cba0b1",
       "version_major": 2,
       "version_minor": 0
      },
      "text/plain": [
       "Resolving data files:   0%|          | 0/52 [00:00<?, ?it/s]"
      ]
     },
     "metadata": {},
     "output_type": "display_data"
    },
    {
     "data": {
      "application/vnd.jupyter.widget-view+json": {
       "model_id": "da1731a0c5e24dd895209c8180e3af29",
       "version_major": 2,
       "version_minor": 0
      },
      "text/plain": [
       "Loading dataset shards:   0%|          | 0/38 [00:00<?, ?it/s]"
      ]
     },
     "metadata": {},
     "output_type": "display_data"
    },
    {
     "data": {
      "application/vnd.jupyter.widget-view+json": {
       "model_id": "70219677b3aa4a97879c911a54d450a7",
       "version_major": 2,
       "version_minor": 0
      },
      "text/plain": [
       "  0%|          | 0/10 [00:00<?, ?it/s]"
      ]
     },
     "metadata": {},
     "output_type": "display_data"
    }
   ],
   "source": [
    "trainData, testData = get_text.initialise(ceaser.encrypt, *DATA_AMOUNT, TRAIN_SPLIT)"
   ]
  },
  {
   "cell_type": "code",
   "execution_count": 15,
   "id": "47084107",
   "metadata": {},
   "outputs": [
    {
     "data": {
      "text/plain": [
       "[['s j bhvxwmb tnjcb brmwnh lxuerw ljauhun sxqw wrlqxu vx luxcq lnwcb yna exudvn xcqna exudvnb rw yanyjajcrxw ydkurbqnm kh qjayna kaxcqnab wnf hxat jwh xo cqn jkxen fxatb fruu kn bnwc kh vjru yxbcjpn yanyjrm cx jwh yjac xo cqn dwrcnm bcjcnb ljwjmj xa vngrlx xw anlnryc xo cqn yarln lxwcnwcb yjpn lqjycna r cqn bcjcn xo nwpurbq bxlrnch jwm unccnab jocna cqn anbcxajcrxw lqjycna rr jmmrbxw b ojvruh jwm nmdljcrxw lqjycna rrr jmmrbxw xw qrb cajenub lqjycna re qrb nvyuxhvnwc rw joojrab xo bcjcn lqjycna e cqn cjcuna jwm bynlcjcxa lqjycna er ljcx lqjycna err jmmrbxw b zdjaanu',\n",
       "  9],\n",
       " ['xujsxjw w b hmzwhm ymfhpjwfd fsymtsd ywtqqtuj gzwpj otms rtwqjd rnqyts rfwp ufyynxts mfbymtwsj mjswd ofrjx ow xtzymjd j itbijs hmfzhjw f b bfwi gzsdfs o f kwtzij htbujw ltqibns xrnym utuj qjxqnj xyjumjs gdwts otms snhmtq qthpj ymtrfx ktbqjw btwixbtwym k rdjwx iwdijs l xfnsyxgzwd qfsitw xnisjd htqans ij vznshjd ifani rfxxts qfrg fqkwji fnsljw gjsyqjd w h ojgg inhpjsx f b bfwi lwfd j b ltxxj xbnky qjxqnj xyjumjs xyjwsj m i ywfnqq rfhfzqfd o htyyjw rtwnxts knjqinsl fzxyns itgxts xmjwnifs rwx tqnumfsy fiinxts b o htzwymtuj gfhts w b hmzwhm htqjwnilj m i ywfnqq xnw umnqnu xnisjd',\n",
       "  5],\n",
       " ['kja cajanwpekj wbpan wjkpdan iaj nalnaoajpejc kllkoejc ahaiajpo kb nwjg yhwoo ejpanaop wjz pwopa dwra wcnaaz ej wygjkshazcejc wzzeokj o atpnwknzejwnu ianepo sdkaran seodao owuo fkdjokj wp pda ajz kb w xekcnwldu opnkjchu ykhkqnaz sepd pda lnalkooaooekjo kb w oaie fwykxepa pknu sdkaran seodao pk wppwej wj ajcheod opuha bwiehewn xqp jkp ykwnoa wjz ahacwjp xqp jkp kopajpwpekqo iqop cera deo zwuo wjz jecdpo pk pda rkhqiao kb wzzeokj oqyd w iwng kb jwpekjwh naolayp owuo iwywqhwu pda xaop nalnaoajpwpera kb iezzha yhwoo klejekj ej pda lnaoajp yajpqnu olawgejc kb pda opwpqa anaypaz pk wzzeokj ej saopiejopan wxxau swo zqa',\n",
       "  22],\n",
       " ['jvimv kf yvzxykve kyv wrmflirscv fgzezfe fw yzdjvcw kyzj rsjvetv fw uirdrkzt zetzuvek ze ruuzjfe j czwv nflcu cvru lj erklirccp kf tfetcluv kyrk yv nrj uvwztzvek ze kyv vevixp reu grjjzfe nyzty trljv r gfnviwlc erkliv kf cvrmv r drib lgfe zkj rxv pvk jlty r aluxdvek nflcu tvikrzecp sv viifevflj jyp reu ivjvimvu rj yv nrj kyv lerezdflj mviuztk fw yzj dfjk zccljkizflj tfekvdgfirizvj zj uvtzjzmv rj kf kyv ivjgvtk reu rudzirkzfe nyzty yv votzkvu rdfex kyvd kyv dre nyf tflcu vovik jf gfkvek re zewclvetv fmvi kyv dvitlizrc jkvvcv nyf tflcu wrjtzerkv kyv yrlxykp reu tpeztrc zekvccvtk',\n",
       "  17],\n",
       " ['lqxheywpekj kb deo ksj yknnaolkjzajya dwo ajwxhaz qo ej w swu pdwp da jaran ejpajzaz pk qjzanopwjz pda opnwjca iknwh pseop sdeyd zeopknpaz w jwpqna xu jk iawjo zarkez kb jkxha ejopejypo fkdjokj swo bknpqjwpa ej pda ykilwjekjodel kb landwlo pda xaop xekcnwldan sdk aran heraz xqp kb pda nawh heba wjz ydwnwypan kb wzzeokj oywnyahu wju ykjpailknwnu nayknz naiwejo pda bkniwh jwnnwpera lnabetaz pk deo skngo xu peygahh eo xu pdwp snepan o ksj wzieooekj heppha ikna pdwj w xexhekcnwldu opaaha sdk iecdp dwra pkhz qo ikna pdwj wju iwj wxkqp deo xkudkkz wjz deo iwjjan kb heba ej',\n",
       "  22],\n",
       " ['iz mqczn qbimy wihpylmuncih vs nby uxgcmmcih iz bcm munclcmn jijy bux ch cn migynbcha gily wbulgcha nbuh nbun iz uhs inbyl guh iz qbig cn qum mucx nbun by gcabn bupy vyyh wbimyh echa cz by qcmbyx cn mowb u guh nbioab ni nby wiulmy jylwyjncih iz guhxypcffy by gcabn bupy myygyx hi gily nbuh u julmih ch u nsy qca wuh bulxfs bupy vyyh xyzcwcyhn ch zilwy iz wbuluwnyl hil qiofx cn bupy vyyh jimmcvfy zil u qlcnyl xcmnchaocmbyx vs gyly yfyauhwy uhx lyzchygyhn ni fyupy u fumncha cgjlymm ih nby fcnylunoly uhx miwcyns iz bcm wiohnls ch',\n",
       "  20],\n",
       " ['lxiw edet rwpeitg kxxx iwt aphi ntpgh du wxh axut rwpeitg xm iwt vtcxjh du pssxhdc pssxhdc rwpeitg x iwt hipit du tcvaxhw hdrxtin pcs atiitgh puitg iwt gthidgpixdc du iwt udjg tcvaxhw btc du atiitgh lwdht lgxixcvh bdhi ujaan tbqdsn iwt hexgxi du iwt txvwittciw rtcijgn iwt dct lwd egdkxsth iwt qxdvgpewtg lxiw iwt hrpcixthi bpitgxpah xh pssxhdc xc wxh ydjgcpa id hitaap wxh hdrxpa ktghth pcs wxh atiitgh id wxh ugxtcsh lt wpkt p kxkxs exrijgt du iwdht gtapixdch lxiw ldbtc pcs iwpi egdigprits hjuutgxcv lwxrw xckthi lxiw hjrw igpvxr xcitgthi iwt wxhidgn du hlxui edet qn iwt',\n",
       "  15],\n",
       " ['mpoepo ibe cfdpnf ftusbohfe gspn ijt pme gsjfoe cfgpsf ijt efbui op xsjufs ibt ublfo uif uspvcmf up qsftfswf boz bddpvou pg uif xju boe xjtepn uibu fomjwfofe uif mjuumf tfobuf bu cvuupo t ijt pxo mfuufst bsf bt b svmf dpnqptjujpot bt gjojtife bt ijt qbqfst jo uif tqfdubups uiptf gfbuvsft jo ijt dibsbdufs xijdi fydjuf uif hsfbuftu joufsftu ibwf cffo efmjofbufe cz uif iboe pg bo fofnz bo fofnz xip qpttfttfe bo vosjwbmmfe qpxfs pg tbujsjdbm qpsusbju qbjoujoh boe xbt sftusbjofe cz op sfhbse gps usvui gspn dsfbujoh jo uif qvcmjd njoe tvdi jnqsfttjpot bcpvu puifst bt njhiu',\n",
       "  1]]"
      ]
     },
     "execution_count": 15,
     "metadata": {},
     "output_type": "execute_result"
    }
   ],
   "source": [
    "trainData"
   ]
  }
 ],
 "metadata": {
  "kernelspec": {
   "display_name": ".venv",
   "language": "python",
   "name": "python3"
  },
  "language_info": {
   "codemirror_mode": {
    "name": "ipython",
    "version": 3
   },
   "file_extension": ".py",
   "mimetype": "text/x-python",
   "name": "python",
   "nbconvert_exporter": "python",
   "pygments_lexer": "ipython3",
   "version": "3.12.10"
  }
 },
 "nbformat": 4,
 "nbformat_minor": 5
}
