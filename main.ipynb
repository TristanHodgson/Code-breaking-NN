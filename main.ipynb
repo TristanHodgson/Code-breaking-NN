{
 "cells": [
  {
   "cell_type": "markdown",
   "id": "d1516160",
   "metadata": {},
   "source": [
    "# Preamble"
   ]
  },
  {
   "cell_type": "markdown",
   "id": "dd030ff5",
   "metadata": {},
   "source": [
    "## Variables"
   ]
  },
  {
   "cell_type": "code",
   "execution_count": 1,
   "id": "78767f12",
   "metadata": {},
   "outputs": [],
   "source": [
    "DATA_AMOUNT = [10, 100]\n",
    "TRAIN_SPLIT = 0.8"
   ]
  },
  {
   "cell_type": "markdown",
   "id": "fa298ba9",
   "metadata": {},
   "source": [
    "## Imports"
   ]
  },
  {
   "cell_type": "code",
   "execution_count": 2,
   "id": "28218d7c",
   "metadata": {},
   "outputs": [],
   "source": [
    "%load_ext autoreload\n",
    "%autoreload 2"
   ]
  },
  {
   "cell_type": "code",
   "execution_count": 3,
   "id": "86b75d21",
   "metadata": {},
   "outputs": [],
   "source": [
    "import get_text\n",
    "import ceaser"
   ]
  },
  {
   "cell_type": "markdown",
   "id": "11e8202e",
   "metadata": {},
   "source": [
    "## Creating Data"
   ]
  },
  {
   "cell_type": "code",
   "execution_count": 4,
   "id": "c855d7f3",
   "metadata": {},
   "outputs": [
    {
     "name": "stderr",
     "output_type": "stream",
     "text": [
      "Using the latest cached version of the dataset since manu/project_gutenberg couldn't be found on the Hugging Face Hub\n",
      "Found the latest cached dataset configuration 'default' at C:\\Users\\Tristan\\.cache\\huggingface\\datasets\\manu___project_gutenberg\\default\\0.0.0\\164853d214065df26a630ee1ab91a0c39e461caf (last modified on Thu Sep  4 19:18:40 2025).\n"
     ]
    },
    {
     "data": {
      "application/vnd.jupyter.widget-view+json": {
       "model_id": "a7a20ad6188c429e8a89f801cfe38b02",
       "version_major": 2,
       "version_minor": 0
      },
      "text/plain": [
       "  0%|          | 0/10 [00:00<?, ?it/s]"
      ]
     },
     "metadata": {},
     "output_type": "display_data"
    }
   ],
   "source": [
    "trainData, testData = get_text.initialise(ceaser.encrypt, *DATA_AMOUNT, TRAIN_SPLIT, stream=True)"
   ]
  },
  {
   "cell_type": "code",
   "execution_count": 5,
   "id": "47084107",
   "metadata": {},
   "outputs": [
    {
     "data": {
      "text/plain": [
       "[['sepd lkla ydwlpan reee pda hwop uawno kb deo heba ydwlpan et pda cajeqo kb wzzeokj wzzeokj ydwlpan e pda opwpa kb ajcheod okyeapu wjz happano wbpan pda naopknwpekj kb pda bkqn ajcheod iaj kb happano sdkoa snepejco ikop bqhhu aixkzu pda olenep kb pda aecdpaajpd yajpqnu pda kja sdk lnkrezao pda xekcnwldan sepd pda oywjpeaop iwpanewho eo wzzeokj ej deo fkqnjwh pk opahhw deo okyewh ranoao wjz deo happano pk deo bneajzo sa dwra w rerez leypqna kb pdkoa nahwpekjo sepd skiaj wjz pdwp lnkpnwypaz oqbbanejc sdeyd ejraop sepd oqyd pnwcey ejpanaop pda deopknu kb osebp lkla xu pda',\n",
       "  22],\n",
       " ['e v nthjiyn fzvon ndyizt xjgqdi xvmgtgz ejci idxcjg hj xgjoc xzion kzm qjgphz joczm qjgphzn di kmzkvmvodji kpwgdnczy wt cvmkzm wmjoczmn izr tjmf vit ja ocz vwjqz rjmfn rdgg wz nzio wt hvdg kjnovbz kmzkvdy oj vit kvmo ja ocz pidozy novozn xvivyv jm hzsdxj ji mzxzdko ja ocz kmdxz xjiozion kvbz xcvkozm d ocz novoz ja zibgdnc njxdzot viy gzoozmn vaozm ocz mznojmvodji xcvkozm dd vyydnji n avhdgt viy zypxvodji xcvkozm ddd vyydnji ji cdn omvqzgn xcvkozm dq cdn zhkgjthzio di vaavdmn ja novoz xcvkozm q ocz ovogzm viy nkzxovojm xcvkozm qd xvoj xcvkozm qdd vyydnji n lpvmmzg',\n",
       "  21],\n",
       " ['mryifzxqflk lc efp ltk zloobpmlkabkzb exp bkxyiba rp fk x txv qexq eb kbsbo fkqbkaba ql rkabopqxka qeb pqoxkdb jloxi qtfpq tefze afpqloqba x kxqrob yv kl jbxkp abslfa lc klyib fkpqfkzqp glekplk txp cloqrkxqb fk qeb zljmxkflkpefm lc mboexmp qeb ybpq yfldoxmebo tel bsbo ifsba yrq lc qeb obxi ifcb xka zexoxzqbo lc xaafplk pzxozbiv xkv zlkqbjmloxov obzloa objxfkp qeb clojxi kxooxqfsb mobcfuba ql efp tlohp yv qfzhbii fp yv qexq tofqbo p ltk xajfppflk ifqqib jlob qexk x yfyifldoxmev pqbbib tel jfdeq exsb qlia rp jlob qexk xkv jxk xylrq efp ylvella xka efp jxkkbo lc ifcb fk',\n",
       "  23],\n",
       " ['pbosb ql ebfdeqbk qeb cxslroxyib lmfkflk lc efjpbic qefp xypbkzb lc aoxjxqfz fkzfabkq fk xaafplk p ifcb tlria ibxa rp kxqroxiiv ql zlkzirab qexq eb txp abcfzfbkq fk qeb bkbodv xka mxppflk tefze zxrpb x mltbocri kxqrob ql ibxsb x jxoh rmlk fqp xdb vbq prze x gradjbkq tlria zboqxfkiv yb boolkblrp pev xka obpbosba xp eb txp qeb rkxkfjlrp sboafzq lc efp jlpq fiirpqoflrp zlkqbjmloxofbp fp abzfpfsb xp ql qeb obpmbzq xka xajfoxqflk tefze eb buzfqba xjlkd qebj qeb jxk tel zlria buboq pl mlqbkq xk fkcirbkzb lsbo qeb jbozrofxi pqbbib tel zlria cxpzfkxqb qeb exrdeqv xka zvkfzxi fkqbiibzq',\n",
       "  23],\n",
       " ['izkpqdm pbbx izkpqdm wzo vwbm quioma wn bpm wzqoqvit xioma izm idiqtijtm bpzwcop qvbmzvmb izkpqdm amm pbbx izkpqdm wzo lmbiqta illqawv kwcz bzivakzqjmz a vwbm bmfb mvktwaml jg cvlmzakwzma qa qv qbitqka qbitqka bmfb mvktwaml jg kcztg jziksmba qa acxmzakzqxbml mfiuxtm g m mvotqap umv wn tmbbmza mlqbml jg rwpv uwztmg illqawv jg e r kwczbpwxm pizxmz jzwbpmza xcjtqapmza vme gwzs ivl twvlwv mvotqap umv wn tmbbmza mlqbml jg rwpv uwztmg rwpvawv tmatqm abmxpmv oqjjwv r k uwzqawv akwbb z p pcbbwv apmttmg r i aguwvla pcum b p pcftmg owtlauqbp eqttqiu jtiks lmnwm eqttqiu uqvbw jczva r k apiqzx',\n",
       "  8],\n",
       " ['ocz kmjezxo bpoziwzmb zwjjf vyydnji wt rdggdvh ejci xjpmocjkz ocdn zwjjf dn ajm ocz pnz ja vitjiz vitrczmz vo ij xjno viy rdoc vghjno ij mznomdxodjin rcvonjzqzm tjp hvt xjkt do bdqz do vrvt jm mz pnz do piyzm ocz ozmhn ja ocz kmjezxo bpoziwzmb gdxzinz dixgpyzy rdoc ocdn zwjjf jm jigdiz vo rrr bpoziwzmb jmb odogz vyydnji vpocjm rdggdvh ejci xjpmocjkz mzgzvnz yvoz ijqzhwzm zwjjf gvibpvbz zibgdnc xcvmvxozm nzo zixjydib dnj novmo ja ocz kmjezxo bpoziwzmb zwjjf vyydnji z ozso kmzkvmzy wt ocz jigdiz ydnomdwpozy kmjjamzvydib ozvh cook rrr kbyk izo amjh kvbz dhvbzn bzizmjpngt hvyz vqvdgvwgz wt diozmizo',\n",
       "  21],\n",
       " ['ilkalk exa ybzljb bpqoxkdba colj efp lia cofbka ybclob efp abxqe kl tofqbo exp qxhbk qeb qolryib ql mobpbosb xkv xzzlrkq lc qeb tfq xka tfpalj qexq bkifsbkba qeb ifqqib pbkxqb xq yrqqlk p efp ltk ibqqbop xob xp x orib zljmlpfqflkp xp cfkfpeba xp efp mxmbop fk qeb pmbzqxqlo qelpb cbxqrobp fk efp zexoxzqbo tefze buzfqb qeb dobxqbpq fkqbobpq exsb ybbk abifkbxqba yv qeb exka lc xk bkbjv xk bkbjv tel mlppbppba xk rkofsxiiba mltbo lc pxqfofzxi mloqoxfq mxfkqfkd xka txp obpqoxfkba yv kl obdxoa clo qorqe colj zobxqfkd fk qeb mryifz jfka prze fjmobppflkp xylrq lqebop xp jfdeq',\n",
       "  23],\n",
       " ['olajoan n s ydqnyd pdwyganwu wjpdkju pnkhhkla xqnga fkdj iknhau iehpkj iwng lwppeokj dwspdknja dajnu fwiao fn okqpdau a zkszaj ydwqyan w s swnz xqjuwj f w bnkqza ykslan ckhzsej oiepd lkla haohea opaldaj xunkj fkdj jeydkh hkyga pdkiwo bkshan sknzosknpd b iuano znuzaj c owejpoxqnu hwjzkn oezjau ykhrej za mqejyau zwrez iwookj hwix whbnaz wejcan xajphau n y faxx zeygajo w s swnz cnwu a s ckooa osebp haohea opaldaj opanja d z pnwehh iwywqhwu f ykppan ikneokj beahzejc wqopej zkxokj odanezwj ino kheldwjp wzzeokj s f ykqnpdkla xwykj n s ydqnyd ykhanezca d z pnwehh oen ldehel oezjau',\n",
       "  22]]"
      ]
     },
     "execution_count": 5,
     "metadata": {},
     "output_type": "execute_result"
    }
   ],
   "source": [
    "trainData"
   ]
  }
 ],
 "metadata": {
  "kernelspec": {
   "display_name": ".venv",
   "language": "python",
   "name": "python3"
  },
  "language_info": {
   "codemirror_mode": {
    "name": "ipython",
    "version": 3
   },
   "file_extension": ".py",
   "mimetype": "text/x-python",
   "name": "python",
   "nbconvert_exporter": "python",
   "pygments_lexer": "ipython3",
   "version": "3.12.10"
  }
 },
 "nbformat": 4,
 "nbformat_minor": 5
}
