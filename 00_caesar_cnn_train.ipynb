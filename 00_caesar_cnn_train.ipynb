{
 "cells": [
  {
   "cell_type": "markdown",
   "id": "d1516160",
   "metadata": {},
   "source": [
    "# Preamble"
   ]
  },
  {
   "cell_type": "markdown",
   "id": "4308e0c6",
   "metadata": {},
   "source": [
    "The goal of this is as a first, very basic, proof of concept of the idea to use a neural network to break basic codes. The first code we attempt to break is a Caesar cipher. To do so we use a CNN to classify the encrypted text by the key that will decrypt it. This approach works well, when trained on the Guttenberg Project from [Hugging Face](https://huggingface.co/datasets/manu/project_gutenberg) we get very close to 100% accuracy with small amounts of training time and no hyperparameter tuning. The structure of the model was largely inspired by [Understanding Convolutional Neural Networks for NLP](https://dennybritz.com/posts/wildml/understanding-convolutional-neural-networks-for-nlp/)."
   ]
  },
  {
   "cell_type": "markdown",
   "id": "dd030ff5",
   "metadata": {},
   "source": [
    "## Variables"
   ]
  },
  {
   "cell_type": "code",
   "execution_count": null,
   "id": "78767f12",
   "metadata": {},
   "outputs": [],
   "source": [
    "DATA_AMOUNT = [10000, 1000]\n",
    "TRAIN_SPLIT = 0.8\n",
    "STREAM = False"
   ]
  },
  {
   "cell_type": "code",
   "execution_count": null,
   "id": "709f8503",
   "metadata": {},
   "outputs": [],
   "source": [
    "BATCH_SIZE = 64\n",
    "EMBEDDING_DIM = 128\n",
    "NUM_FILTERS = 128\n",
    "FILTER_SIZES = [2, 3, 4, 5, 7]\n",
    "DROPOUT_PROB = 0.5\n",
    "NUM_CLASSES = 25\n",
    "VOCAB_SIZE = 28\n",
    "NUM_EPOCHS = 10\n",
    "LR = 0.01"
   ]
  },
  {
   "cell_type": "markdown",
   "id": "fa298ba9",
   "metadata": {},
   "source": [
    "## Imports"
   ]
  },
  {
   "cell_type": "code",
   "execution_count": null,
   "id": "28218d7c",
   "metadata": {},
   "outputs": [],
   "source": [
    "%load_ext autoreload\n",
    "%autoreload 2"
   ]
  },
  {
   "cell_type": "code",
   "execution_count": 27,
   "id": "86b75d21",
   "metadata": {},
   "outputs": [],
   "source": [
    "from modules.data_handling import caesar_cnn_data\n",
    "from modules.data_handling import get_text\n",
    "from modules.encryption import caesar\n",
    "\n",
    "from tqdm.autonotebook import tqdm"
   ]
  },
  {
   "cell_type": "code",
   "execution_count": null,
   "id": "40b19db8",
   "metadata": {},
   "outputs": [],
   "source": [
    "import torch\n",
    "from torch import nn\n",
    "import torch.nn.functional as F\n",
    "import torch.optim as optim"
   ]
  },
  {
   "cell_type": "code",
   "execution_count": null,
   "id": "ea2527ae",
   "metadata": {},
   "outputs": [],
   "source": [
    "device = \"cuda\" if torch.cuda.is_available() else \"cpu\"\n",
    "device"
   ]
  },
  {
   "cell_type": "markdown",
   "id": "11e8202e",
   "metadata": {},
   "source": [
    "## Creating Data"
   ]
  },
  {
   "cell_type": "code",
   "execution_count": 18,
   "id": "c855d7f3",
   "metadata": {},
   "outputs": [
    {
     "data": {
      "application/vnd.jupyter.widget-view+json": {
       "model_id": "146d9295271d42bb99e337701b72727e",
       "version_major": 2,
       "version_minor": 0
      },
      "text/plain": [
       "Resolving data files:   0%|          | 0/52 [00:00<?, ?it/s]"
      ]
     },
     "metadata": {},
     "output_type": "display_data"
    },
    {
     "data": {
      "application/vnd.jupyter.widget-view+json": {
       "model_id": "708ad07ee86e46c7ad509f11f698956e",
       "version_major": 2,
       "version_minor": 0
      },
      "text/plain": [
       "Loading dataset shards:   0%|          | 0/38 [00:00<?, ?it/s]"
      ]
     },
     "metadata": {},
     "output_type": "display_data"
    },
    {
     "data": {
      "application/vnd.jupyter.widget-view+json": {
       "model_id": "6564f7f874884069badbfb7b94a6e96a",
       "version_major": 2,
       "version_minor": 0
      },
      "text/plain": [
       "  0%|          | 0/10000 [00:00<?, ?it/s]"
      ]
     },
     "metadata": {},
     "output_type": "display_data"
    }
   ],
   "source": [
    "trainData, testData = caesar_cnn_data.initialise(*DATA_AMOUNT, TRAIN_SPLIT, stream=STREAM)\n",
    "train_loader, test_loader = caesar_cnn_data.data2loader(trainData, testData, BATCH_SIZE=BATCH_SIZE)"
   ]
  },
  {
   "cell_type": "markdown",
   "id": "10930dd9",
   "metadata": {},
   "source": [
    "# CNN Model"
   ]
  },
  {
   "cell_type": "code",
   "execution_count": 19,
   "id": "72015503",
   "metadata": {},
   "outputs": [],
   "source": [
    "class CNNCodeBreaker(nn.Module):\n",
    "    def __init__(self,\n",
    "                 num_filters=NUM_FILTERS,\n",
    "                 filter_sizes=FILTER_SIZES,\n",
    "                 num_classes=NUM_CLASSES,\n",
    "                 dropout_prob=DROPOUT_PROB,\n",
    "                 embed_dim=EMBEDDING_DIM,\n",
    "                 vocab_size=VOCAB_SIZE):\n",
    "        super().__init__()\n",
    "        self.embedding = nn.Embedding(vocab_size, embed_dim, padding_idx=27)\n",
    "        self.convs = nn.ModuleList([\n",
    "            nn.Conv1d(in_channels=embed_dim, out_channels=num_filters, kernel_size=k)\n",
    "            for k in filter_sizes\n",
    "        ])\n",
    "        self.linear = nn.Linear(len(filter_sizes) * num_filters, num_classes)\n",
    "        self.dropout = nn.Dropout(dropout_prob)\n",
    "\n",
    "    def forward(self, x):\n",
    "        embedded = self.embedding(x).permute(0, 2, 1)\n",
    "        conved = [F.relu(conv(embedded)) for conv in self.convs]\n",
    "        pooled = [F.max_pool1d(conv, conv.shape[2]).squeeze(2) for conv in conved]\n",
    "        cat = torch.cat(pooled, dim=1)\n",
    "        dropped = self.dropout(cat)\n",
    "        return self.linear(dropped)"
   ]
  },
  {
   "cell_type": "code",
   "execution_count": 20,
   "id": "673813a4",
   "metadata": {},
   "outputs": [
    {
     "data": {
      "text/plain": [
       "CNNCodeBreaker(\n",
       "  (embedding): Embedding(28, 128, padding_idx=27)\n",
       "  (convs): ModuleList(\n",
       "    (0): Conv1d(128, 128, kernel_size=(2,), stride=(1,))\n",
       "    (1): Conv1d(128, 128, kernel_size=(3,), stride=(1,))\n",
       "    (2): Conv1d(128, 128, kernel_size=(4,), stride=(1,))\n",
       "    (3): Conv1d(128, 128, kernel_size=(5,), stride=(1,))\n",
       "    (4): Conv1d(128, 128, kernel_size=(7,), stride=(1,))\n",
       "  )\n",
       "  (linear): Linear(in_features=640, out_features=25, bias=True)\n",
       "  (dropout): Dropout(p=0.5, inplace=False)\n",
       ")"
      ]
     },
     "execution_count": 20,
     "metadata": {},
     "output_type": "execute_result"
    }
   ],
   "source": [
    "model = CNNCodeBreaker().to(device)\n",
    "model"
   ]
  },
  {
   "cell_type": "markdown",
   "id": "edf3deea",
   "metadata": {},
   "source": [
    "# Training"
   ]
  },
  {
   "cell_type": "code",
   "execution_count": 21,
   "id": "02849d3e",
   "metadata": {},
   "outputs": [],
   "source": [
    "loss_fn = nn.CrossEntropyLoss()\n",
    "optimiser = optim.Adam(model.parameters(), lr=LR)"
   ]
  },
  {
   "cell_type": "code",
   "execution_count": 22,
   "id": "368bfe15",
   "metadata": {},
   "outputs": [
    {
     "data": {
      "application/vnd.jupyter.widget-view+json": {
       "model_id": "377797e1025b47e7828105f57f3f089d",
       "version_major": 2,
       "version_minor": 0
      },
      "text/plain": [
       "  0%|          | 0/10 [00:00<?, ?it/s]"
      ]
     },
     "metadata": {},
     "output_type": "display_data"
    },
    {
     "name": "stdout",
     "output_type": "stream",
     "text": [
      "Epoch 00/10 | Train Loss: 0.0001 | Test Loss: 0.0001 | Test Accuracy: 100.0%\n",
      "Epoch 01/10 | Train Loss: 0.0001 | Test Loss: 0.0001 | Test Accuracy: 100.0%\n",
      "Epoch 02/10 | Train Loss: 0.0000 | Test Loss: 0.0000 | Test Accuracy: 100.0%\n",
      "Epoch 03/10 | Train Loss: 0.0000 | Test Loss: 0.0000 | Test Accuracy: 100.0%\n",
      "Epoch 04/10 | Train Loss: 0.0000 | Test Loss: 0.0000 | Test Accuracy: 100.0%\n",
      "Epoch 05/10 | Train Loss: 0.0001 | Test Loss: 0.0001 | Test Accuracy: 100.0%\n",
      "Epoch 06/10 | Train Loss: 0.0000 | Test Loss: 0.0000 | Test Accuracy: 100.0%\n",
      "Epoch 07/10 | Train Loss: 0.0000 | Test Loss: 0.0000 | Test Accuracy: 100.0%\n",
      "Epoch 08/10 | Train Loss: 0.0000 | Test Loss: 0.0000 | Test Accuracy: 100.0%\n",
      "Epoch 09/10 | Train Loss: 0.0029 | Test Loss: 0.0029 | Test Accuracy: 100.0%\n"
     ]
    }
   ],
   "source": [
    "for epoch in tqdm(range(NUM_EPOCHS)):\n",
    "    model.train()\n",
    "    running_loss = 0\n",
    "\n",
    "    for inputs, labels in train_loader:\n",
    "        inputs = inputs.to(device)\n",
    "        labels = labels.to(device)\n",
    "        optimiser.zero_grad()\n",
    "        outputs = model(inputs)\n",
    "        loss = loss_fn(outputs, labels)\n",
    "        loss.backward()\n",
    "        optimiser.step()\n",
    "        running_loss += loss.item()\n",
    "\n",
    "    avg_train_loss = running_loss / len(train_loader)\n",
    "\n",
    "    model.eval()\n",
    "    test_loss = 0\n",
    "    correct = 0\n",
    "    total = 0\n",
    "\n",
    "    with torch.inference_mode():\n",
    "        for inputs, labels in test_loader:\n",
    "            inputs = inputs.to(device)\n",
    "            labels = labels.to(device)\n",
    "\n",
    "            outputs = model(inputs)\n",
    "            loss = loss_fn(outputs, labels)\n",
    "            test_loss += loss.item()\n",
    "\n",
    "            predicted = torch.argmax(outputs, dim=1)\n",
    "            total += labels.size(0)\n",
    "            correct += (predicted == labels).sum().item()\n",
    "\n",
    "    avg_test_loss = test_loss / len(test_loader)\n",
    "    accuracy = 100 * correct / total\n",
    "    print(f\"Epoch {epoch:02d}/{NUM_EPOCHS} | Train Loss: {avg_test_loss:.4f} | Test Loss: {avg_test_loss:.4f} | Test Accuracy: {accuracy:.1f}%\")"
   ]
  },
  {
   "cell_type": "markdown",
   "id": "bcebfb63",
   "metadata": {},
   "source": [
    "## Saving"
   ]
  },
  {
   "cell_type": "code",
   "execution_count": 23,
   "id": "db7913dc",
   "metadata": {},
   "outputs": [],
   "source": [
    "torch.save(model.state_dict(), \"models/00_caesar_cnn.pt\")"
   ]
  },
  {
   "cell_type": "markdown",
   "id": "2de40665",
   "metadata": {},
   "source": [
    "# Example Useage"
   ]
  },
  {
   "cell_type": "code",
   "execution_count": 33,
   "id": "63e393bd",
   "metadata": {},
   "outputs": [
    {
     "name": "stdout",
     "output_type": "stream",
     "text": [
      "Original Text: 'The quick brown fox jumps over the lazy dog'\n",
      "Encrypted Text: 'hvs eiwqy pfckb tcl xiadg cjsf hvs zonm rcu'\n",
      "Model Prediction (Key): tensor([22], device='cuda:0')\n"
     ]
    }
   ],
   "source": [
    "model.eval()\n",
    "test_string = \"The quick brown fox jumps over the lazy dog\"\n",
    "true_key = 14\n",
    "enc_text, _ = caesar.encrypt(test_string, key=true_key)\n",
    "print(f\"Original Text: '{test_string}'\")\n",
    "print(f\"Encrypted Text: '{enc_text}'\")\n",
    "input_tensor = torch.tensor(get_text.string2_num_list(enc_text), dtype=torch.long).unsqueeze(0).to(device)\n",
    "with torch.inference_mode():\n",
    "    pred_logits = model(input_tensor)\n",
    "pred_key = torch.argmax(pred_logits, dim=1) + 1\n",
    "print(f\"Model Prediction (Key): {pred_key}\")"
   ]
  },
  {
   "cell_type": "code",
   "execution_count": null,
   "id": "0cbdc1a2",
   "metadata": {},
   "outputs": [],
   "source": []
  }
 ],
 "metadata": {
  "kernelspec": {
   "display_name": ".venv",
   "language": "python",
   "name": "python3"
  },
  "language_info": {
   "codemirror_mode": {
    "name": "ipython",
    "version": 3
   },
   "file_extension": ".py",
   "mimetype": "text/x-python",
   "name": "python",
   "nbconvert_exporter": "python",
   "pygments_lexer": "ipython3",
   "version": "3.12.10"
  }
 },
 "nbformat": 4,
 "nbformat_minor": 5
}
